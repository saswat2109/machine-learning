{
 "cells": [
  {
   "cell_type": "code",
   "execution_count": 5,
   "id": "a48ae55b",
   "metadata": {},
   "outputs": [
    {
     "name": "stdout",
     "output_type": "stream",
     "text": [
      "Entropy of label: 1.8701269786219525\n"
     ]
    }
   ],
   "source": [
    "# A1_entropy.py - Calculate entropy of target column with optional binning\n",
    "\n",
    "import pandas as pd\n",
    "import numpy as np\n",
    "\n",
    "\n",
    "df = pd.read_csv(\"embedded_dataset_deberta.csv\")\n",
    "target_col = df.columns[-1]\n",
    "\n",
    "\n",
    "def entropy(y):\n",
    "    counts = y.value_counts(normalize=True)\n",
    "    return float(-np.sum([p * np.log2(p) for p in counts if p > 0]))\n",
    "\n",
    "def equal_width_binning(series, bins=4):\n",
    "    labels = [f\"bin_{i}\" for i in range(bins)]\n",
    "    return pd.cut(series, bins=bins, labels=labels, include_lowest=True).astype(str)\n",
    "\n",
    "\n",
    "y = df[target_col]\n",
    "if pd.api.types.is_numeric_dtype(y):\n",
    "    y = equal_width_binning(y, bins=4)\n",
    "\n",
    "print(f\"Entropy of {target_col}: {entropy(y)}\")\n"
   ]
  },
  {
   "cell_type": "code",
   "execution_count": 6,
   "id": "37411d2f",
   "metadata": {},
   "outputs": [
    {
     "name": "stdout",
     "output_type": "stream",
     "text": [
      "Gini index of label: 0.708486503636174\n"
     ]
    }
   ],
   "source": [
    "# A2_gini.py - Calculate Gini index of target column\n",
    "\n",
    "import pandas as pd\n",
    "\n",
    "df = pd.read_csv(\"embedded_dataset_deberta.csv\")\n",
    "target_col = df.columns[-1]\n",
    "\n",
    "def gini_index(y):\n",
    "    counts = y.value_counts(normalize=True)\n",
    "    return float(1.0 - sum([p**2 for p in counts]))\n",
    "\n",
    "def equal_width_binning(series, bins=4):\n",
    "    labels = [f\"bin_{i}\" for i in range(bins)]\n",
    "    return pd.cut(series, bins=bins, labels=labels, include_lowest=True).astype(str)\n",
    "\n",
    "y = df[target_col]\n",
    "if pd.api.types.is_numeric_dtype(y):\n",
    "    y = equal_width_binning(y)\n",
    "\n",
    "print(f\"Gini index of {target_col}: {gini_index(y)}\")\n"
   ]
  },
  {
   "cell_type": "code",
   "execution_count": 7,
   "id": "b594eefd",
   "metadata": {},
   "outputs": [
    {
     "name": "stdout",
     "output_type": "stream",
     "text": [
      "Best root feature: embedding_58, Information Gain: 0.24109426171288906\n"
     ]
    }
   ],
   "source": [
    "# A3_root_feature.py - Determine root node feature using Information Gain\n",
    "\n",
    "import pandas as pd\n",
    "import numpy as np\n",
    "\n",
    "df = pd.read_csv(\"embedded_dataset_deberta.csv\")\n",
    "target_col = df.columns[-1]\n",
    "\n",
    "def entropy(y):\n",
    "    counts = y.value_counts(normalize=True)\n",
    "    return float(-np.sum([p * np.log2(p) for p in counts if p > 0]))\n",
    "\n",
    "def information_gain(parent_y, split_series):\n",
    "    total_entropy = entropy(parent_y)\n",
    "    df_tmp = pd.DataFrame({'y': parent_y, 'split': split_series})\n",
    "    weighted_entropy = 0\n",
    "    for _, g in df_tmp.groupby('split')['y']:\n",
    "        weighted_entropy += (len(g) / len(df_tmp)) * entropy(g)\n",
    "    return total_entropy - weighted_entropy\n",
    "\n",
    "def equal_width_binning(series, bins=4):\n",
    "    labels = [f\"bin_{i}\" for i in range(bins)]\n",
    "    return pd.cut(series, bins=bins, labels=labels, include_lowest=True).astype(str)\n",
    "\n",
    "y = df[target_col]\n",
    "if pd.api.types.is_numeric_dtype(y):\n",
    "    y = equal_width_binning(y)\n",
    "\n",
    "best_feat, best_gain = None, -np.inf\n",
    "for col in df.columns:\n",
    "    if col == target_col:\n",
    "        continue\n",
    "    feature = df[col]\n",
    "    if pd.api.types.is_numeric_dtype(feature):\n",
    "        feature = equal_width_binning(feature)\n",
    "    gain = information_gain(y, feature)\n",
    "    if gain > best_gain:\n",
    "        best_feat, best_gain = col, gain\n",
    "\n",
    "print(f\"Best root feature: {best_feat}, Information Gain: {best_gain}\")\n"
   ]
  },
  {
   "cell_type": "code",
   "execution_count": 8,
   "id": "f025adf2",
   "metadata": {},
   "outputs": [
    {
     "name": "stdout",
     "output_type": "stream",
     "text": [
      "Column: embedding_0\n",
      "\n",
      "Equal-width binning:\n",
      "embedding_0\n",
      "bin_3    4096\n",
      "bin_2     332\n",
      "bin_0       2\n",
      "bin_1       2\n",
      "Name: count, dtype: int64\n",
      "\n",
      "Equal-frequency binning:\n",
      "embedding_0\n",
      "qbin_0    1108\n",
      "qbin_1    1108\n",
      "qbin_2    1108\n",
      "qbin_3    1108\n",
      "Name: count, dtype: int64\n"
     ]
    }
   ],
   "source": [
    "# A4_binning_demo.py - Show equal-width and equal-frequency binning for first numeric column\n",
    "\n",
    "import pandas as pd\n",
    "\n",
    "df = pd.read_csv(\"embedded_dataset_deberta.csv\")\n",
    "numeric_cols = [c for c in df.columns if pd.api.types.is_numeric_dtype(df[c])]\n",
    "if not numeric_cols:\n",
    "    raise ValueError(\"No numeric columns found for binning demo.\")\n",
    "\n",
    "col_name = numeric_cols[0]\n",
    "series = df[col_name]\n",
    "\n",
    "def equal_width_binning(series, bins=4):\n",
    "    labels = [f\"bin_{i}\" for i in range(bins)]\n",
    "    return pd.cut(series, bins=bins, labels=labels, include_lowest=True)\n",
    "\n",
    "def equal_frequency_binning(series, bins=4):\n",
    "    labels = [f\"qbin_{i}\" for i in range(bins)]\n",
    "    return pd.qcut(series, q=bins, labels=labels, duplicates='drop')\n",
    "\n",
    "print(f\"Column: {col_name}\")\n",
    "print(\"\\nEqual-width binning:\")\n",
    "print(equal_width_binning(series).value_counts())\n",
    "print(\"\\nEqual-frequency binning:\")\n",
    "print(equal_frequency_binning(series).value_counts())\n"
   ]
  },
  {
   "cell_type": "code",
   "execution_count": 9,
   "id": "f9304585",
   "metadata": {},
   "outputs": [
    {
     "name": "stdout",
     "output_type": "stream",
     "text": [
      "Decision Tree trained successfully.\n"
     ]
    }
   ],
   "source": [
    "# A5_build_tree.py - Build Decision Tree using sklearn\n",
    "\n",
    "import pandas as pd\n",
    "from sklearn.tree import DecisionTreeClassifier\n",
    "from sklearn.preprocessing import LabelEncoder\n",
    "\n",
    "df = pd.read_csv(\"embedded_dataset_deberta.csv\")\n",
    "target_col = df.columns[-1]\n",
    "\n",
    "def equal_width_binning(series, bins=4):\n",
    "    labels = [f\"bin_{i}\" for i in range(bins)]\n",
    "    return pd.cut(series, bins=bins, labels=labels, include_lowest=True).astype(str)\n",
    "\n",
    "X = df.drop(columns=[target_col])\n",
    "y = df[target_col]\n",
    "\n",
    "for col in X.columns:\n",
    "    if pd.api.types.is_numeric_dtype(X[col]):\n",
    "        X[col] = equal_width_binning(X[col])\n",
    "\n",
    "le_y = LabelEncoder()\n",
    "y_enc = le_y.fit_transform(y.astype(str))\n",
    "\n",
    "for col in X.columns:\n",
    "    le_feat = LabelEncoder()\n",
    "    X[col] = le_feat.fit_transform(X[col].astype(str))\n",
    "\n",
    "clf = DecisionTreeClassifier(max_depth=5, random_state=42)\n",
    "clf.fit(X, y_enc)\n",
    "print(\"Decision Tree trained successfully.\")\n"
   ]
  },
  {
   "cell_type": "code",
   "execution_count": 16,
   "id": "f29af774",
   "metadata": {},
   "outputs": [
    {
     "name": "stdout",
     "output_type": "stream",
     "text": [
      "Saved dtree.png successfully.\n"
     ]
    }
   ],
   "source": [
    "# A6_visualize_tree.py - Final fix for numeric target issue\n",
    "\n",
    "import pandas as pd\n",
    "import matplotlib.pyplot as plt\n",
    "from sklearn.tree import DecisionTreeClassifier, plot_tree\n",
    "from sklearn.preprocessing import LabelEncoder\n",
    "\n",
    "\n",
    "df = pd.read_csv(\"embedded_dataset_deberta.csv\")\n",
    "target_col = df.columns[-1]\n",
    "\n",
    "def equal_width_binning(series, bins=4):\n",
    "    labels = [f\"bin_{i}\" for i in range(bins)]\n",
    "    return pd.cut(series, bins=bins, labels=labels, include_lowest=True).astype(str)\n",
    "\n",
    "\n",
    "X = df.drop(columns=[target_col])\n",
    "y = df[target_col]\n",
    "\n",
    "\n",
    "for col in X.columns:\n",
    "    if pd.api.types.is_numeric_dtype(X[col]):\n",
    "        X[col] = equal_width_binning(X[col])\n",
    "\n",
    "\n",
    "le_y = LabelEncoder()\n",
    "y_enc = le_y.fit_transform(y.astype(str))\n",
    "\n",
    "\n",
    "for col in X.columns:\n",
    "    le_feat = LabelEncoder()\n",
    "    X[col] = le_feat.fit_transform(X[col].astype(str))\n",
    "\n",
    "\n",
    "clf = DecisionTreeClassifier(max_depth=5, random_state=42)\n",
    "clf.fit(X, y_enc)\n",
    "\n",
    "feature_names_list = [str(f) for f in X.columns]\n",
    "class_names_list = [str(c) for c in le_y.classes_]\n",
    "\n",
    "\n",
    "plt.figure(figsize=(12,8))\n",
    "plot_tree(\n",
    "    clf,\n",
    "    feature_names=feature_names_list,\n",
    "    class_names=class_names_list,\n",
    "    filled=True,\n",
    "    rounded=True\n",
    ")\n",
    "plt.savefig(\"dtree.png\", dpi=300)\n",
    "plt.close()\n",
    "print(\"Saved dtree.png successfully.\")\n"
   ]
  },
  {
   "cell_type": "code",
   "execution_count": 17,
   "id": "7a3b2c42",
   "metadata": {},
   "outputs": [
    {
     "name": "stdout",
     "output_type": "stream",
     "text": [
      "Saved decision_boundary.png\n"
     ]
    },
    {
     "data": {
      "image/png": "[encoded data removed]",
      "text/plain": [
       "<Figure size 640x480 with 1 Axes>"
      ]
     },
     "metadata": {},
     "output_type": "display_data"
    }
   ],
   "source": [
    "# A7_decision_boundary.py - Plot decision boundary using two numeric features\n",
    "\n",
    "import pandas as pd\n",
    "import numpy as np\n",
    "import matplotlib.pyplot as plt\n",
    "from sklearn.tree import DecisionTreeClassifier\n",
    "from sklearn.preprocessing import LabelEncoder\n",
    "\n",
    "df = pd.read_csv(\"embedded_dataset_deberta.csv\")\n",
    "target_col = df.columns[-1]\n",
    "\n",
    "numeric_cols = [c for c in df.columns if pd.api.types.is_numeric_dtype(df[c]) and c != target_col]\n",
    "if len(numeric_cols) < 2:\n",
    "    raise ValueError(\"Not enough numeric features for decision boundary.\")\n",
    "\n",
    "feat1, feat2 = numeric_cols[:2]\n",
    "X = df[[feat1, feat2]].values\n",
    "\n",
    "le_y = LabelEncoder()\n",
    "y = le_y.fit_transform(df[target_col].astype(str))\n",
    "\n",
    "clf = DecisionTreeClassifier(max_depth=5, random_state=42)\n",
    "clf.fit(X, y)\n",
    "\n",
    "x_min, x_max = X[:,0].min()-1, X[:,0].max()+1\n",
    "y_min, y_max = X[:,1].min()-1, X[:,1].max()+1\n",
    "xx, yy = np.meshgrid(np.linspace(x_min, x_max, 300),\n",
    "                     np.linspace(y_min, y_max, 300))\n",
    "Z = clf.predict(np.c_[xx.ravel(), yy.ravel()]).reshape(xx.shape)\n",
    "\n",
    "plt.contourf(xx, yy, Z, alpha=0.3)\n",
    "plt.scatter(X[:,0], X[:,1], c=y, edgecolor='k')\n",
    "plt.xlabel(feat1)\n",
    "plt.ylabel(feat2)\n",
    "plt.title(\"Decision Boundary\")\n",
    "plt.savefig(\"decision_boundary.png\")\n",
    "print(\"Saved decision_boundary.png\")\n"
   ]
  },
  {
   "cell_type": "code",
   "execution_count": null,
   "id": "bdd24ec1",
   "metadata": {},
   "outputs": [],
   "source": []
  }
 ],
 "metadata": {
  "kernelspec": {
   "display_name": "Python 3 (ipykernel)",
   "language": "python",
   "name": "python3"
  },
  "language_info": {
   "codemirror_mode": {
    "name": "ipython",
    "version": 3
   },
   "file_extension": ".py",
   "mimetype": "text/x-python",
   "name": "python",
   "nbconvert_exporter": "python",
   "pygments_lexer": "ipython3",
   "version": "3.11.5"
  }
 },
 "nbformat": 4,
 "nbformat_minor": 5
}
