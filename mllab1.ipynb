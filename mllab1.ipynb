{
 "cells": [
  {
   "cell_type": "code",
   "execution_count": 3,
   "id": "e98c0d6d-2f47-4cae-a82a-a0afb14c38a9",
   "metadata": {},
   "outputs": [
    {
     "name": "stdin",
     "output_type": "stream",
     "text": [
      "enter a string saswat\n"
     ]
    },
    {
     "name": "stdout",
     "output_type": "stream",
     "text": [
      "vowels of given word are 2\n",
      "consonants of given word are 4\n"
     ]
    }
   ],
   "source": [
    "#question 1 \n",
    "text = input (\"enter a string\")\n",
    "vowels =\"aeiou\"\n",
    "v_count=c_count = 0\n",
    "for char in text :\n",
    "    if char.isalpha():\n",
    "        if char in vowels :\n",
    "            v_count+=1\n",
    "        else:\n",
    "            c_count+=1\n",
    "print(\"vowels of given word are\",v_count)\n",
    "print(\"consonants of given word are\",c_count)"
   ]
  },
  {
   "cell_type": "code",
   "execution_count": 5,
   "id": "18c40b88-a261-41f4-a5e9-aaa40b81ff1d",
   "metadata": {},
   "outputs": [
    {
     "name": "stdout",
     "output_type": "stream",
     "text": [
      "Enter Matrix A:\n"
     ]
    },
    {
     "name": "stdin",
     "output_type": "stream",
     "text": [
      "How many rows in Matrix A?  3\n",
      "How many columns in Matrix A?  3\n"
     ]
    },
    {
     "name": "stdout",
     "output_type": "stream",
     "text": [
      "Enter elements for Matrix A row by row:\n",
      "Row 1 :\n"
     ]
    },
    {
     "name": "stdin",
     "output_type": "stream",
     "text": [
      "Enter value:  2\n",
      "Enter value:  3\n",
      "Enter value:  4\n"
     ]
    },
    {
     "name": "stdout",
     "output_type": "stream",
     "text": [
      "Row 2 :\n"
     ]
    },
    {
     "name": "stdin",
     "output_type": "stream",
     "text": [
      "Enter value:  1\n",
      "Enter value:  3\n",
      "Enter value:  2\n"
     ]
    },
    {
     "name": "stdout",
     "output_type": "stream",
     "text": [
      "Row 3 :\n"
     ]
    },
    {
     "name": "stdin",
     "output_type": "stream",
     "text": [
      "Enter value:  4\n",
      "Enter value:  1\n",
      "Enter value:  3\n"
     ]
    },
    {
     "name": "stdout",
     "output_type": "stream",
     "text": [
      "Enter Matrix B:\n"
     ]
    },
    {
     "name": "stdin",
     "output_type": "stream",
     "text": [
      "How many rows in Matrix B?  3\n",
      "How many columns in Matrix B?  3\n"
     ]
    },
    {
     "name": "stdout",
     "output_type": "stream",
     "text": [
      "Enter elements for Matrix B row by row:\n",
      "Row 1 :\n"
     ]
    },
    {
     "name": "stdin",
     "output_type": "stream",
     "text": [
      "Enter value:  2\n",
      "Enter value:  3\n",
      "Enter value:  4\n"
     ]
    },
    {
     "name": "stdout",
     "output_type": "stream",
     "text": [
      "Row 2 :\n"
     ]
    },
    {
     "name": "stdin",
     "output_type": "stream",
     "text": [
      "Enter value:  5\n",
      "Enter value:  5\n",
      "Enter value:  2\n"
     ]
    },
    {
     "name": "stdout",
     "output_type": "stream",
     "text": [
      "Row 3 :\n"
     ]
    },
    {
     "name": "stdin",
     "output_type": "stream",
     "text": [
      "Enter value:  4\n",
      "Enter value:  5\n",
      "Enter value:  2\n"
     ]
    },
    {
     "name": "stdout",
     "output_type": "stream",
     "text": [
      " Result (A * B):\n",
      "[35, 41, 22]\n",
      "[25, 28, 14]\n",
      "[25, 32, 24]\n"
     ]
    }
   ],
   "source": [
    "def q2(matrix):\n",
    "    rows = int(input(\"How many rows in \" + matrix + \"? \"))\n",
    "    cols = int(input(\"How many columns in \" + matrix + \"? \"))\n",
    "    print(\"Enter elements for \" + matrix + \" row by row:\")\n",
    "    matrix = []\n",
    "    for i in range(rows):\n",
    "        print(\"row\", i + 1, \":\")\n",
    "        row = []\n",
    "        for j in range(cols):\n",
    "            value = int(input(\"Enter value\"))\n",
    "            row.append(value)\n",
    "        matrix.append(row)\n",
    "    return matrix, rows, cols\n",
    "print(\"Enter Matrix A:\")\n",
    "A, a_rows, a_cols = q2(\"Matrix A\")\n",
    "print(\"Enter Matrix B:\")\n",
    "B, b_rows, b_cols = q2(\"Matrix B\")\n",
    "if a_cols != b_rows:\n",
    "    print(\" Error: Cannot multiply\")\n",
    "else:\n",
    "    result = []\n",
    "    for i in range(a_rows):\n",
    "        row = []\n",
    "        for j in range(b_cols):\n",
    "            total = 0\n",
    "            for k in range(a_cols):\n",
    "                total += A[i][k] * B[k][j]\n",
    "            row.append(total)\n",
    "        result.append(row)\n",
    "    print(\" Result \")\n",
    "    for row in result:\n",
    "        print(row)"
   ]
  },
  {
   "cell_type": "code",
   "execution_count": 6,
   "id": "5c1fbd23-13dd-426c-b41f-5d7e8fc853a1",
   "metadata": {},
   "outputs": [
    {
     "name": "stdin",
     "output_type": "stream",
     "text": [
      "enter elements of first list 12 32 24 45 56\n",
      "enter elements of second list 34 67 85 45\n"
     ]
    },
    {
     "name": "stdout",
     "output_type": "stream",
     "text": [
      "no of common elements are 1\n"
     ]
    }
   ],
   "source": [
    "list1=list(map(int,input(\"enter elements of first list\").split()))\n",
    "list2=list(map(int,input(\"enter elements of second list\").split()))\n",
    "common = set(list1) & set(list2)\n",
    "print(\"no of common elements are\",len(common))"
   ]
  },
  {
   "cell_type": "code",
   "execution_count": 9,
   "id": "b8c22be8-185b-4a04-b110-1790a1d2f538",
   "metadata": {},
   "outputs": [
    {
     "name": "stdin",
     "output_type": "stream",
     "text": [
      "enter the no of rows 2\n",
      "enter the no of coloumns 2\n"
     ]
    },
    {
     "name": "stdout",
     "output_type": "stream",
     "text": [
      "enter row wise\n"
     ]
    },
    {
     "name": "stdin",
     "output_type": "stream",
     "text": [
      " 1 2\n",
      " 3 4\n"
     ]
    },
    {
     "name": "stdout",
     "output_type": "stream",
     "text": [
      "transpose of the matrix\n",
      "[1, 3]\n",
      "[2, 4]\n"
     ]
    }
   ],
   "source": [
    "rows=int(input(\"enter the no of rows\"))\n",
    "cols=int(input(\"enter the no of coloumns\"))\n",
    "matrix=[]\n",
    "print(\"enter row wise\")\n",
    "for _ in range(rows):\n",
    "    row= list(map(int,input().split()))\n",
    "    matrix.append(row)\n",
    "transpose = [[matrix[j][i]for j in range(rows)]for i in range(cols)]\n",
    "print(\"transpose of the matrix\")\n",
    "for row in transpose : \n",
    "    print(row)"
   ]
  },
  {
   "cell_type": "code",
   "execution_count": 10,
   "id": "416f4e1f-b892-4a88-8ad0-65d5fc284f41",
   "metadata": {},
   "outputs": [
    {
     "name": "stdout",
     "output_type": "stream",
     "text": [
      "Generated numbers: [137, 114, 136, 130, 143, 106, 140, 102, 122, 101, 147, 102, 144, 150, 120, 108, 113, 140, 108, 128, 110, 103, 129, 122, 130, 137, 110, 108, 142, 112, 145, 149, 122, 117, 115, 121, 116, 141, 115, 112, 131, 113, 103, 143, 124, 101, 145, 146, 147, 143, 136, 139, 128, 101, 134, 122, 136, 129, 147, 122, 147, 103, 110, 142, 147, 133, 121, 107, 147, 107, 149, 111, 142, 137, 123, 103, 135, 116, 119, 111, 127, 124, 114, 102, 139, 127, 126, 142, 127, 146, 124, 143, 129, 117, 111, 120, 145, 126, 143, 134]\n",
      "Mean: 126.13\n",
      "Median: 126.5\n",
      "Mode: 147\n"
     ]
    }
   ],
   "source": [
    "import random \n",
    "import statistics\n",
    "numbers = [random.randint(100, 150) for _ in range(100)]\n",
    "print(\"Generated numbers:\", numbers)\n",
    "print(\"Mean:\", statistics.mean(numbers))\n",
    "print(\"Median:\", statistics.median(numbers))\n",
    "print(\"Mode:\", statistics.mode(numbers))\n"
   ]
  },
  {
   "cell_type": "code",
   "execution_count": null,
   "id": "b89c3116-cbea-48b8-9cd8-dd754fb833f0",
   "metadata": {},
   "outputs": [],
   "source": []
  }
 ],
 "metadata": {
  "kernelspec": {
   "display_name": "Python [conda env:base] *",
   "language": "python",
   "name": "conda-base-py"
  },
  "language_info": {
   "codemirror_mode": {
    "name": "ipython",
    "version": 3
   },
   "file_extension": ".py",
   "mimetype": "text/x-python",
   "name": "python",
   "nbconvert_exporter": "python",
   "pygments_lexer": "ipython3",
   "version": "3.13.5"
  }
 },
 "nbformat": 4,
 "nbformat_minor": 5
}
